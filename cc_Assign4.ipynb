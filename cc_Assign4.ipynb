{
  "nbformat": 4,
  "nbformat_minor": 0,
  "metadata": {
    "colab": {
      "provenance": []
    },
    "kernelspec": {
      "name": "python3",
      "display_name": "Python 3"
    },
    "language_info": {
      "name": "python"
    }
  },
  "cells": [
    {
      "cell_type": "code",
      "execution_count": null,
      "metadata": {
        "colab": {
          "base_uri": "https://localhost:8080/"
        },
        "id": "E9xP4NvkR0Mc",
        "outputId": "b783a29f-0734-42fd-b038-8927cfd0ee74"
      },
      "outputs": [
        {
          "output_type": "stream",
          "name": "stdout",
          "text": [
            "<class 'numpy.ndarray'>\n",
            "[1 2 3]\n",
            "[np.int64(0), np.int64(1), np.int64(4), np.int64(9), np.int64(36)]\n",
            "[np.int64(1), np.int64(1)]\n",
            "[np.int64(2), np.int64(4)]\n",
            "[3 4 5 6 7]\n",
            "[ 3  6  9 12 15]\n",
            "[0.5 1.  1.5 2.  2.5]\n",
            "[5 4 6 3 2 1]\n",
            "for x : \n",
            "Most frequent value : 1, indices : [0 5 7 8 9]\n",
            "for y : \n",
            "Most frequent value : 1, indices : [0 1 2]\n",
            "20\n",
            "70\n"
          ]
        }
      ],
      "source": [
        "import numpy as np\n",
        "\n",
        "a = np.array([0,1,2,3,4])\n",
        "print(type(a)) # numpy.ndarray : numpy array\n",
        "a.dtype\n",
        "a.size\n",
        "a.ndim\n",
        "a.shape # size of array in each dimension\n",
        "\n",
        "c = np.array([20,1,2,3,4])\n",
        "c[0] = 100\n",
        "c[4] = 9\n",
        "\n",
        "# Slicing\n",
        "d = c[1:4] # 1 2 3\n",
        "print(d)\n",
        "\n",
        "e = []  # a into c\n",
        "for i in range(len(a)) :\n",
        "  e.append(a[i]*c[i])\n",
        "print(e)\n",
        "\n",
        "# Vector Addition\n",
        "u = np.array([1,0])\n",
        "v = np.array([0,1])\n",
        "# z = u+v\n",
        "# print(z)\n",
        "\n",
        "z = []\n",
        "for n,m in zip(u,v):\n",
        "  z.append(n+m)\n",
        "print(z)\n",
        "# zip(u, v) pairs corresponding elements from u and v together.\n",
        "\n",
        "# Multiplication with scalar\n",
        "p = np.array([1,2])\n",
        "# r = 2*p\n",
        "# print(r)\n",
        "\n",
        "r = []\n",
        "for n in p:\n",
        "  r.append(2*n)\n",
        "print(r)\n",
        "\n",
        "# Assignment 4\n",
        "\n",
        "# Q1\n",
        "\n",
        "a = np.array([1,2,3,4,5])\n",
        "print(a+2)\n",
        "print(a*3)\n",
        "print(a/2)\n",
        "\n",
        "# Q2\n",
        "\n",
        "arr = np.array([1,2,3,6,4,5])\n",
        "reversed_arr = arr[::-1]\n",
        "print(reversed_arr)\n",
        "\n",
        "# b part\n",
        "def most_frequent_value_with_indices(arr) :\n",
        "  unique_values , counts = np.unique(arr,return_counts=True)\n",
        "\n",
        "  most_frequent_value = unique_values[np.argmax(counts)]\n",
        "\n",
        "  indices = np.where(arr==most_frequent_value)[0]\n",
        "  return most_frequent_value,indices\n",
        "\n",
        "x = np.array([1,2,3,4,5,1,2,1,1,1])\n",
        "y = np.array([1,1,1,2,3,4,2,4,3,3])\n",
        "\n",
        "print(\"for x : \")\n",
        "value , indices = most_frequent_value_with_indices(x)\n",
        "print(f\"Most frequent value : {value}, indices : {indices}\")\n",
        "\n",
        "print(\"for y : \")\n",
        "value , indices = most_frequent_value_with_indices(y)\n",
        "print(f\"Most frequent value : {value}, indices : {indices}\")\n",
        "\n",
        "# Q3\n",
        "# 0 based indexing\n",
        "arr = np.array([[10,20,30],[40,50,60],[70,80,90]])\n",
        "print(arr[0,1])\n",
        "print(arr[2][0])\n"
      ]
    },
    {
      "cell_type": "code",
      "source": [
        "# Q4\n",
        "\n",
        "import numpy as np\n",
        "\n",
        "yourname = np.linspace(10,100,25)\n",
        "print(\"array : \",yourname)\n",
        "print(\"dimensions : \",yourname.ndim)\n",
        "print(\"Shape : \",yourname.shape)\n",
        "print(\"Total elemets : \",yourname.size)\n",
        "print(\"data type : \",yourname.dtype)\n",
        "print(\"Total bytes consumed : \",yourname.nbytes) # memory\n",
        "\n",
        "transpose_array = yourname.reshape(25,1)\n",
        "print(transpose_array)\n",
        "\n",
        "transpose_T = yourname.T\n",
        "# The .T attribute in NumPy is used to transpose an array.\n",
        "# However, when used on a 1D array, it does nothing because a 1D array\n",
        "\n",
        "if np.array_equal(transpose_array,transpose_T) :\n",
        "  print(\"Both give same results\")\n",
        "else :\n",
        "  print(\"T attribute does nothing to 1d array\")"
      ],
      "metadata": {
        "id": "yzwxMOcHbg-P",
        "colab": {
          "base_uri": "https://localhost:8080/"
        },
        "outputId": "c97b8d60-ef8d-4ed2-e759-1ea3dda2f5cc"
      },
      "execution_count": null,
      "outputs": [
        {
          "output_type": "stream",
          "name": "stdout",
          "text": [
            "array :  [ 10.    13.75  17.5   21.25  25.    28.75  32.5   36.25  40.    43.75\n",
            "  47.5   51.25  55.    58.75  62.5   66.25  70.    73.75  77.5   81.25\n",
            "  85.    88.75  92.5   96.25 100.  ]\n",
            "dimensions :  1\n",
            "Shape :  (25,)\n",
            "Total elemets :  25\n",
            "data type :  float64\n",
            "Total bytes consumed :  200\n",
            "[[ 10.  ]\n",
            " [ 13.75]\n",
            " [ 17.5 ]\n",
            " [ 21.25]\n",
            " [ 25.  ]\n",
            " [ 28.75]\n",
            " [ 32.5 ]\n",
            " [ 36.25]\n",
            " [ 40.  ]\n",
            " [ 43.75]\n",
            " [ 47.5 ]\n",
            " [ 51.25]\n",
            " [ 55.  ]\n",
            " [ 58.75]\n",
            " [ 62.5 ]\n",
            " [ 66.25]\n",
            " [ 70.  ]\n",
            " [ 73.75]\n",
            " [ 77.5 ]\n",
            " [ 81.25]\n",
            " [ 85.  ]\n",
            " [ 88.75]\n",
            " [ 92.5 ]\n",
            " [ 96.25]\n",
            " [100.  ]]\n",
            "T attribute does nothing to 1d array\n"
          ]
        }
      ]
    },
    {
      "cell_type": "code",
      "source": [
        "# Q5\n",
        "\n",
        "import numpy as np\n",
        "\n",
        "ucs420_dhruv = np.array([\n",
        "    [-10,20,30,40],\n",
        "    [50,60,70,80],\n",
        "    [90,15,20,35]\n",
        "])\n",
        "\n",
        "print(\"mean : \",np.mean(ucs420_dhruv))\n",
        "print(\"Median : \",np.median(ucs420_dhruv))\n",
        "print(\"Max : \",np.max(ucs420_dhruv))\n",
        "print(\"Min : \",np.min(ucs420_dhruv))\n",
        "print(\"Unique elements : \",np.unique(ucs420_dhruv))\n",
        "\n",
        "# reshape() creates a new array without changing data.\n",
        "# resize() modifies the original array, repeating or truncating data if needed.\n",
        "\n",
        "reshaped_ucs420_dhruv = ucs420_dhruv.reshape(4,3)\n",
        "print(reshaped_ucs420_dhruv)\n",
        "print()\n",
        "resized_ucs420_dhruv = np.resize(ucs420_dhruv,(2,3)) # This will modify the original array\n",
        "print(resized_ucs420_dhruv)\n"
      ],
      "metadata": {
        "colab": {
          "base_uri": "https://localhost:8080/"
        },
        "id": "4qv4uNYZUdGE",
        "outputId": "0f2b2f2d-565b-486d-efad-90e45c6d7731"
      },
      "execution_count": null,
      "outputs": [
        {
          "output_type": "stream",
          "name": "stdout",
          "text": [
            "mean :  41.666666666666664\n",
            "Median :  37.5\n",
            "Max :  90\n",
            "Min :  -10\n",
            "Unique elements :  [-10  15  20  30  35  40  50  60  70  80  90]\n",
            "[[-10  20  30]\n",
            " [ 40  50  60]\n",
            " [ 70  80  90]\n",
            " [ 15  20  35]]\n",
            "\n",
            "[[-10  20  30]\n",
            " [ 40  50  60]]\n"
          ]
        }
      ]
    },
    {
      "cell_type": "markdown",
      "source": [],
      "metadata": {
        "id": "RTK7N9fAVlGL"
      }
    }
  ]
}