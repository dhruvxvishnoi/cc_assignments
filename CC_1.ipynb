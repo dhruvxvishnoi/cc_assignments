{
  "nbformat": 4,
  "nbformat_minor": 0,
  "metadata": {
    "colab": {
      "provenance": []
    },
    "kernelspec": {
      "name": "python3",
      "display_name": "Python 3"
    },
    "language_info": {
      "name": "python"
    }
  },
  "cells": [
    {
      "cell_type": "code",
      "execution_count": null,
      "metadata": {
        "colab": {
          "base_uri": "https://localhost:8080/"
        },
        "id": "iSoYFnwHQR5v",
        "outputId": "b2f114e2-805f-49af-81e9-2d7e1aeb22a7"
      },
      "outputs": [
        {
          "output_type": "stream",
          "name": "stdout",
          "text": [
            "Table of 7 : \n",
            " 7 x 1 = 7\n",
            " 7 x 2 = 14\n",
            " 7 x 3 = 21\n",
            " 7 x 4 = 28\n",
            " 7 x 5 = 35\n",
            " 7 x 6 = 42\n",
            " 7 x 7 = 49\n",
            " 7 x 8 = 56\n",
            " 7 x 9 = 63\n",
            " 7 x 10 = 70\n",
            "\n",
            "TABLE OF 9 : \n",
            " 9 x 1 = 9\n",
            " 9 x 2 = 18\n",
            " 9 x 3 = 27\n",
            " 9 x 4 = 36\n",
            " 9 x 5 = 45\n",
            " 9 x 6 = 54\n",
            " 9 x 7 = 63\n",
            " 9 x 8 = 72\n",
            " 9 x 9 = 81\n",
            " 9 x 10 = 90\n",
            "\n",
            "Enter n : 4\n",
            "Printing table of 4 : \n",
            " 4 x 1 = 4\n",
            " 4 x 2 = 8\n",
            " 4 x 3 = 12\n",
            " 4 x 4 = 16\n",
            " 4 x 5 = 20\n",
            " 4 x 6 = 24\n",
            " 4 x 7 = 28\n",
            " 4 x 8 = 32\n",
            " 4 x 9 = 36\n",
            " 4 x 10 = 40\n",
            "\n",
            "Enter n : 4\n",
            "Adding all numbers from 1 to 4 : \n",
            "10\n",
            "s1 -->  False\n",
            "s2 -->  True\n",
            "s3 -->  True\n",
            "s4 -->  False\n"
          ]
        }
      ],
      "source": [
        "# 4.1\n",
        "print(\"Table of 7 : \")\n",
        "for i in range (1,11) :\n",
        "  print(f\" 7 x {i} = {7*i}\")\n",
        "print()\n",
        "print(\"TABLE OF 9 : \")\n",
        "for i in range (1,11) :\n",
        "  print(f\" 9 x {i} = {9*i}\")\n",
        "\n",
        "# 4.2\n",
        "print()\n",
        "n = int(input(\"Enter n : \"))\n",
        "print(f\"Printing table of {n} : \")\n",
        "for i in range (1,11) :\n",
        "  print(f\" {n} x {i} = {n*i}\")\n",
        "\n",
        "# 4.3\n",
        "print()\n",
        "sum = 0\n",
        "n = int(input(\"Enter n : \"))\n",
        "print(f\"Adding all numbers from 1 to {n} : \")\n",
        "for i in range(1,n+1) :\n",
        "  sum = sum + i\n",
        "\n",
        "print(sum)\n",
        "\n",
        "# Palindrome\n",
        "s1 = \"Indian Army\"\n",
        "s2 = \"malayalam\"\n",
        "s3 = \"madam\"\n",
        "s4 = \"teacher\"\n",
        "print(\"s1 --> \",s1==s1[::-1])  # reverses the string and returns true or false\n",
        "print(\"s2 --> \",s2==s2[::-1])\n",
        "print(\"s3 --> \",s3==s3[::-1])\n",
        "print(\"s4 --> \",s4==s4[::-1])\n",
        "\n",
        "\n",
        "\n"
      ]
    }
  ]
}